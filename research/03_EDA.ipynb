{
 "cells": [
  {
   "cell_type": "code",
   "execution_count": 2,
   "id": "45e945a2",
   "metadata": {},
   "outputs": [],
   "source": [
    "import pandas as pd"
   ]
  },
  {
   "cell_type": "code",
   "execution_count": 3,
   "id": "d8f2e148",
   "metadata": {},
   "outputs": [
    {
     "data": {
      "text/plain": [
       "'c:\\\\code\\\\ML\\\\breast_cancer\\\\research'"
      ]
     },
     "execution_count": 3,
     "metadata": {},
     "output_type": "execute_result"
    }
   ],
   "source": [
    "import os\n",
    "%pwd"
   ]
  },
  {
   "cell_type": "code",
   "execution_count": 4,
   "id": "debffdab",
   "metadata": {},
   "outputs": [],
   "source": [
    "os.chdir(\"../\")"
   ]
  },
  {
   "cell_type": "code",
   "execution_count": 5,
   "id": "9073294d",
   "metadata": {},
   "outputs": [
    {
     "data": {
      "text/plain": [
       "'c:\\\\code\\\\ML\\\\breast_cancer'"
      ]
     },
     "execution_count": 5,
     "metadata": {},
     "output_type": "execute_result"
    }
   ],
   "source": [
    "pwd"
   ]
  },
  {
   "cell_type": "code",
   "execution_count": 6,
   "id": "e2c7a01c",
   "metadata": {},
   "outputs": [],
   "source": [
    "df_clean = pd.read_csv(\"artifacts\\preprocessing\\df_clean.csv\",delimiter = \",\")\n"
   ]
  },
  {
   "cell_type": "code",
   "execution_count": 26,
   "id": "0505e11e",
   "metadata": {},
   "outputs": [
    {
     "data": {
      "text/html": [
       "<div>\n",
       "<style scoped>\n",
       "    .dataframe tbody tr th:only-of-type {\n",
       "        vertical-align: middle;\n",
       "    }\n",
       "\n",
       "    .dataframe tbody tr th {\n",
       "        vertical-align: top;\n",
       "    }\n",
       "\n",
       "    .dataframe thead th {\n",
       "        text-align: right;\n",
       "    }\n",
       "</style>\n",
       "<table border=\"1\" class=\"dataframe\">\n",
       "  <thead>\n",
       "    <tr style=\"text-align: right;\">\n",
       "      <th></th>\n",
       "      <th>diagnosis</th>\n",
       "      <th>radius_mean</th>\n",
       "      <th>texture_mean</th>\n",
       "      <th>perimeter_mean</th>\n",
       "      <th>area_mean</th>\n",
       "      <th>smoothness_mean</th>\n",
       "      <th>compactness_mean</th>\n",
       "      <th>concavity_mean</th>\n",
       "      <th>concave points_mean</th>\n",
       "      <th>symmetry_mean</th>\n",
       "      <th>...</th>\n",
       "      <th>radius_worst</th>\n",
       "      <th>texture_worst</th>\n",
       "      <th>perimeter_worst</th>\n",
       "      <th>area_worst</th>\n",
       "      <th>smoothness_worst</th>\n",
       "      <th>compactness_worst</th>\n",
       "      <th>concavity_worst</th>\n",
       "      <th>concave points_worst</th>\n",
       "      <th>symmetry_worst</th>\n",
       "      <th>fractal_dimension_worst</th>\n",
       "    </tr>\n",
       "  </thead>\n",
       "  <tbody>\n",
       "    <tr>\n",
       "      <th>0</th>\n",
       "      <td>M</td>\n",
       "      <td>17.99</td>\n",
       "      <td>10.38</td>\n",
       "      <td>122.80</td>\n",
       "      <td>1001.0</td>\n",
       "      <td>0.11840</td>\n",
       "      <td>0.27760</td>\n",
       "      <td>0.3001</td>\n",
       "      <td>0.14710</td>\n",
       "      <td>0.2419</td>\n",
       "      <td>...</td>\n",
       "      <td>25.38</td>\n",
       "      <td>17.33</td>\n",
       "      <td>184.60</td>\n",
       "      <td>2019.0</td>\n",
       "      <td>0.1622</td>\n",
       "      <td>0.6656</td>\n",
       "      <td>0.7119</td>\n",
       "      <td>0.2654</td>\n",
       "      <td>0.4601</td>\n",
       "      <td>0.11890</td>\n",
       "    </tr>\n",
       "    <tr>\n",
       "      <th>1</th>\n",
       "      <td>M</td>\n",
       "      <td>20.57</td>\n",
       "      <td>17.77</td>\n",
       "      <td>132.90</td>\n",
       "      <td>1326.0</td>\n",
       "      <td>0.08474</td>\n",
       "      <td>0.07864</td>\n",
       "      <td>0.0869</td>\n",
       "      <td>0.07017</td>\n",
       "      <td>0.1812</td>\n",
       "      <td>...</td>\n",
       "      <td>24.99</td>\n",
       "      <td>23.41</td>\n",
       "      <td>158.80</td>\n",
       "      <td>1956.0</td>\n",
       "      <td>0.1238</td>\n",
       "      <td>0.1866</td>\n",
       "      <td>0.2416</td>\n",
       "      <td>0.1860</td>\n",
       "      <td>0.2750</td>\n",
       "      <td>0.08902</td>\n",
       "    </tr>\n",
       "    <tr>\n",
       "      <th>2</th>\n",
       "      <td>M</td>\n",
       "      <td>19.69</td>\n",
       "      <td>21.25</td>\n",
       "      <td>130.00</td>\n",
       "      <td>1203.0</td>\n",
       "      <td>0.10960</td>\n",
       "      <td>0.15990</td>\n",
       "      <td>0.1974</td>\n",
       "      <td>0.12790</td>\n",
       "      <td>0.2069</td>\n",
       "      <td>...</td>\n",
       "      <td>23.57</td>\n",
       "      <td>25.53</td>\n",
       "      <td>152.50</td>\n",
       "      <td>1709.0</td>\n",
       "      <td>0.1444</td>\n",
       "      <td>0.4245</td>\n",
       "      <td>0.4504</td>\n",
       "      <td>0.2430</td>\n",
       "      <td>0.3613</td>\n",
       "      <td>0.08758</td>\n",
       "    </tr>\n",
       "    <tr>\n",
       "      <th>3</th>\n",
       "      <td>M</td>\n",
       "      <td>11.42</td>\n",
       "      <td>20.38</td>\n",
       "      <td>77.58</td>\n",
       "      <td>386.1</td>\n",
       "      <td>0.14250</td>\n",
       "      <td>0.28390</td>\n",
       "      <td>0.2414</td>\n",
       "      <td>0.10520</td>\n",
       "      <td>0.2597</td>\n",
       "      <td>...</td>\n",
       "      <td>14.91</td>\n",
       "      <td>26.50</td>\n",
       "      <td>98.87</td>\n",
       "      <td>567.7</td>\n",
       "      <td>0.2098</td>\n",
       "      <td>0.8663</td>\n",
       "      <td>0.6869</td>\n",
       "      <td>0.2575</td>\n",
       "      <td>0.6638</td>\n",
       "      <td>0.17300</td>\n",
       "    </tr>\n",
       "    <tr>\n",
       "      <th>4</th>\n",
       "      <td>M</td>\n",
       "      <td>20.29</td>\n",
       "      <td>14.34</td>\n",
       "      <td>135.10</td>\n",
       "      <td>1297.0</td>\n",
       "      <td>0.10030</td>\n",
       "      <td>0.13280</td>\n",
       "      <td>0.1980</td>\n",
       "      <td>0.10430</td>\n",
       "      <td>0.1809</td>\n",
       "      <td>...</td>\n",
       "      <td>22.54</td>\n",
       "      <td>16.67</td>\n",
       "      <td>152.20</td>\n",
       "      <td>1575.0</td>\n",
       "      <td>0.1374</td>\n",
       "      <td>0.2050</td>\n",
       "      <td>0.4000</td>\n",
       "      <td>0.1625</td>\n",
       "      <td>0.2364</td>\n",
       "      <td>0.07678</td>\n",
       "    </tr>\n",
       "  </tbody>\n",
       "</table>\n",
       "<p>5 rows × 31 columns</p>\n",
       "</div>"
      ],
      "text/plain": [
       "  diagnosis  radius_mean  texture_mean  perimeter_mean  area_mean  \\\n",
       "0         M        17.99         10.38          122.80     1001.0   \n",
       "1         M        20.57         17.77          132.90     1326.0   \n",
       "2         M        19.69         21.25          130.00     1203.0   \n",
       "3         M        11.42         20.38           77.58      386.1   \n",
       "4         M        20.29         14.34          135.10     1297.0   \n",
       "\n",
       "   smoothness_mean  compactness_mean  concavity_mean  concave points_mean  \\\n",
       "0          0.11840           0.27760          0.3001              0.14710   \n",
       "1          0.08474           0.07864          0.0869              0.07017   \n",
       "2          0.10960           0.15990          0.1974              0.12790   \n",
       "3          0.14250           0.28390          0.2414              0.10520   \n",
       "4          0.10030           0.13280          0.1980              0.10430   \n",
       "\n",
       "   symmetry_mean  ...  radius_worst  texture_worst  perimeter_worst  \\\n",
       "0         0.2419  ...         25.38          17.33           184.60   \n",
       "1         0.1812  ...         24.99          23.41           158.80   \n",
       "2         0.2069  ...         23.57          25.53           152.50   \n",
       "3         0.2597  ...         14.91          26.50            98.87   \n",
       "4         0.1809  ...         22.54          16.67           152.20   \n",
       "\n",
       "   area_worst  smoothness_worst  compactness_worst  concavity_worst  \\\n",
       "0      2019.0            0.1622             0.6656           0.7119   \n",
       "1      1956.0            0.1238             0.1866           0.2416   \n",
       "2      1709.0            0.1444             0.4245           0.4504   \n",
       "3       567.7            0.2098             0.8663           0.6869   \n",
       "4      1575.0            0.1374             0.2050           0.4000   \n",
       "\n",
       "   concave points_worst  symmetry_worst  fractal_dimension_worst  \n",
       "0                0.2654          0.4601                  0.11890  \n",
       "1                0.1860          0.2750                  0.08902  \n",
       "2                0.2430          0.3613                  0.08758  \n",
       "3                0.2575          0.6638                  0.17300  \n",
       "4                0.1625          0.2364                  0.07678  \n",
       "\n",
       "[5 rows x 31 columns]"
      ]
     },
     "execution_count": 26,
     "metadata": {},
     "output_type": "execute_result"
    }
   ],
   "source": [
    "df_clean.head()"
   ]
  },
  {
   "cell_type": "code",
   "execution_count": 8,
   "id": "5e4449ba",
   "metadata": {},
   "outputs": [],
   "source": [
    "#entity"
   ]
  },
  {
   "cell_type": "code",
   "execution_count": 27,
   "id": "b4819303",
   "metadata": {},
   "outputs": [],
   "source": [
    "from dataclasses import dataclass\n",
    "from pathlib import Path"
   ]
  },
  {
   "cell_type": "code",
   "execution_count": 28,
   "id": "72c08674",
   "metadata": {},
   "outputs": [],
   "source": [
    "@dataclass\n",
    "class EDAconfig:\n",
    "    report_path : Path\n",
    "    df_clean_path : Path\n",
    "    \n"
   ]
  },
  {
   "cell_type": "code",
   "execution_count": 10,
   "id": "beedf5bf",
   "metadata": {},
   "outputs": [],
   "source": [
    "# src / config / configuration"
   ]
  },
  {
   "cell_type": "code",
   "execution_count": 11,
   "id": "2dfe940e",
   "metadata": {},
   "outputs": [],
   "source": [
    "import sys\n",
    "import os\n",
    "\n",
    "sys.path.append(os.path.join(os.getcwd(), \"src\"))\n"
   ]
  },
  {
   "cell_type": "code",
   "execution_count": 29,
   "id": "b1422802",
   "metadata": {},
   "outputs": [],
   "source": [
    "from breast_cancer.constants import  *\n",
    "\n",
    "from breast_cancer.utils.common import read_yaml , create_directories"
   ]
  },
  {
   "cell_type": "code",
   "execution_count": 33,
   "id": "a02c32bc",
   "metadata": {},
   "outputs": [],
   "source": [
    "from breast_cancer.entity.config_entity import DataIngestionConfig , PreProcessing\n",
    "\n",
    "class ConfigurationManager:\n",
    "    def __init__(self,\n",
    "                 config_filepath = CONFIG_FILE_PATH, \n",
    "                 params_filepath = PARAMS_FILE_PATH):\n",
    "        self.config = read_yaml(config_filepath)\n",
    "        self.params = read_yaml(params_filepath)\n",
    "\n",
    "        create_directories([self.config.artifacts_root])\n",
    "\n",
    "    def get_data_ingestion_config(self) -> DataIngestionConfig:\n",
    "        config = self.config.data_ingestion\n",
    "        create_directories([config.root_dir])\n",
    "\n",
    "        data_ingestion_config = DataIngestionConfig(\n",
    "            root_dir= config.root_dir,\n",
    "            source_url= config.source_url,\n",
    "            local_data_file= config.local_data_file,\n",
    "            \n",
    "        )\n",
    "\n",
    "        return data_ingestion_config\n",
    "    \n",
    "    def preprocessing(self) -> PreProcessing:\n",
    "        params = self.params.preprocessing\n",
    "        config = self.config.preprocessing\n",
    "        \n",
    "        create_directories([config.df_pre_dir])\n",
    "        pre_processing = PreProcessing(df_pre_dir=config.df_pre_dir,drop_columns=params.drop_columns,axis = params.axis)\n",
    "        \n",
    "        return pre_processing\n",
    "\n",
    "    def EDA_configuration(self) -> EDAconfig:\n",
    "        config = self.config.EDA_config\n",
    "        create_directories([config.report_path])\n",
    "\n",
    "        eda_config = EDAconfig(report_path=config.report_path,df_clean_path= config.df_clean_path)\n",
    "\n",
    "        return eda_config\n",
    "\n",
    "\n",
    "    "
   ]
  },
  {
   "cell_type": "code",
   "execution_count": 14,
   "id": "d17bcc4a",
   "metadata": {},
   "outputs": [],
   "source": [
    "#components"
   ]
  },
  {
   "cell_type": "code",
   "execution_count": null,
   "id": "7076e337",
   "metadata": {},
   "outputs": [],
   "source": [
    "import seaborn as sns\n",
    "import matplotlib.pyplot as plt\n",
    "from breast_cancer import logger\n",
    "\n",
    "\n",
    "class EDA :\n",
    "    def __init__(self,config:EDAconfig):\n",
    "        self.config = config\n",
    "    \n",
    "    def load_data(self):\n",
    "        return pd.read_csv(self.config.df_clean_path)\n",
    "    \n",
    "    def perform_eda(self):\n",
    "        try:\n",
    "            df = self.load_data()\n",
    "            logger.info(\"df_cleaned loaded as df\")\n",
    "\n",
    "            # os.makedirs(self.config.report_path,exist_ok=True)\n",
    "\n",
    "            #basic_info\n",
    "            with open(os.path.join(self.config.report_path,\"basic_info.txt\"),\"w\") as f:\n",
    "                df.info(buf=f)\n",
    "                f.write(\"\\n\\n\")\n",
    "                f.write(str(df.describe()))\n",
    "\n",
    "            logger.info(\"basic info written\")\n",
    "\n",
    "            #class distribution or count plot\n",
    "            sns.countplot(data=df,x = \"diagnosis\")\n",
    "            plt.title(\"class distribution\")\n",
    "            plt.savefig(os.path.join(self.config.report_path,\"countplot.png\"))\n",
    "            plt.clf()\n",
    "            \n",
    "            logger.info(\"class distribution graphs\")\n",
    "\n",
    "\n",
    "            #correlation\n",
    "            plt.figure(figsize=(12,10))\n",
    "            sns.heatmap(df.drop(\"diagnosis\",axis=1).corr(),cmap=\"coolwarm\",annot=False)\n",
    "            plt.title(\"collinearity between features\")\n",
    "            plt.savefig(os.path.join(self.config.report_path,\"correlation.png\"))\n",
    "            plt.clf()\n",
    "\n",
    "            logger.info(\"correlation\")\n",
    "\n",
    "            #histograms / distribution plots\n",
    "            df.drop(\"diagnosis\",axis=1).hist(figsize=(16,12))\n",
    "            plt.title(\"distribution plots\")\n",
    "            plt.savefig(os.path.join(self.config.report_path,\"distribution_plots.png\"))\n",
    "            plt.clf()\n",
    "\n",
    "            logger.info(\"histograms\")\n",
    "\n",
    "            #Boxplots\n",
    "            plt.figure(figsize=(10,6))\n",
    "            sns.boxplot(data=df,orient=\"h\")\n",
    "            plt.title(\"Box Plots\")\n",
    "            plt.savefig(os.path.join(self.config.report_path,\"boxplots.png\"))\n",
    "            plt.clf() \n",
    "\n",
    "            logger.info(\"Boxplots\")\n",
    "\n",
    "            #pairplot\n",
    "            sns.pairplot(df,hue=\"diagnosis\")   \n",
    "            # plt.title(\"Pair Plots\")\n",
    "            plt.savefig(os.path.join(self.config.report_path,\"pairplot.png\"))\n",
    "            plt.clf()\n",
    "            \n",
    "            logger.info(\"pairplot\")\n",
    "\n",
    "            #violin plots\n",
    "            for col in df.columns:\n",
    "                if col==\"diagnosis\":\n",
    "                    continue\n",
    "                sns.violinplot(data=df,x=\"diagnosis\",y=col)\n",
    "                plt.title(f\"violinplot-{col}\")\n",
    "                plt.savefig(os.path.join(self.config.report_path,f\"violin_{col}.png\"))\n",
    "                plt.clf()\n",
    "\n",
    "            logger.info(\"violin plots\")\n",
    "\n",
    "            #feature vs target bar plots\n",
    "\n",
    "            df.groupby(\"diagnosis\").mean().T.plot(kind=\"bar\",figsize=(12,6))\n",
    "            plt.title(\"feature vs target bar plot\")\n",
    "            plt.savefig(os.path.join(self.config.report_path,\"feature_vs_target_barplot.png\"))\n",
    "            plt.clf()\n",
    "\n",
    "            logger.info(\"done with EDA...loaded the entire analysis to report folder in artifacts\")\n",
    "\n",
    "        except Exception as e:\n",
    "            raise e\n",
    "            \n",
    "\n",
    "\n",
    "\n",
    "\n",
    "    \n",
    "\n"
   ]
  },
  {
   "cell_type": "code",
   "execution_count": null,
   "id": "c13eb843",
   "metadata": {},
   "outputs": [],
   "source": [
    "#pipeline\n"
   ]
  },
  {
   "cell_type": "code",
   "execution_count": 38,
   "id": "f3fd5436",
   "metadata": {},
   "outputs": [
    {
     "name": "stdout",
     "output_type": "stream",
     "text": [
      "[2025-05-01 17:37:07,518: INFO: common: yaml file: config\\config.yaml loaded successfully]\n",
      "[2025-05-01 17:37:07,524: INFO: common: yaml file: params.yaml loaded successfully]\n",
      "[2025-05-01 17:37:07,528: INFO: common: created directory at: artifacts]\n",
      "[2025-05-01 17:37:07,531: INFO: common: created directory at: artifacts/data_ingestion]\n",
      "[2025-05-01 17:37:07,534: INFO: data_ingestion: Starting download from https://raw.githubusercontent.com/kartheek2003/data_zip_repo/refs/heads/main/data.csv...]\n",
      "[2025-05-01 17:37:07,846: INFO: data_ingestion: Downloaded file to: artifacts/data_ingestion/data.csv]\n",
      "[2025-05-01 17:37:07,939: INFO: common: created directory at: artifacts/preprocessing]\n",
      "[2025-05-01 17:37:07,954: INFO: pre_processing: data frame preprocessing]\n",
      "[2025-05-01 17:37:08,048: INFO: pre_processing: df_cleaned saved at artifacts/preprocessing]\n",
      "[2025-05-01 17:37:08,050: INFO: common: created directory at: artifacts/report]\n",
      "[2025-05-01 17:37:08,088: INFO: 2672153331: df_cleaned loaded as df]\n",
      "[2025-05-01 17:37:08,244: INFO: 2672153331: basic info written]\n",
      "[2025-05-01 17:37:08,617: INFO: 2672153331: class distribution graphs]\n",
      "[2025-05-01 17:37:10,222: INFO: 2672153331: correlation]\n",
      "[2025-05-01 17:37:15,651: INFO: 2672153331: histograms]\n",
      "[2025-05-01 17:37:17,090: INFO: 2672153331: Boxplots]\n",
      "[2025-05-01 17:41:47,283: INFO: 2672153331: pairplot]\n",
      "[2025-05-01 17:43:53,413: INFO: 2672153331: violin plots]\n",
      "[2025-05-01 17:43:54,075: INFO: 2672153331: done with EDA...loaded the entire analysis to report folder in artifacts]\n"
     ]
    },
    {
     "data": {
      "text/plain": [
       "<Figure size 640x480 with 0 Axes>"
      ]
     },
     "metadata": {},
     "output_type": "display_data"
    },
    {
     "data": {
      "text/plain": [
       "<Figure size 1200x1000 with 0 Axes>"
      ]
     },
     "metadata": {},
     "output_type": "display_data"
    },
    {
     "data": {
      "text/plain": [
       "<Figure size 1600x1200 with 0 Axes>"
      ]
     },
     "metadata": {},
     "output_type": "display_data"
    },
    {
     "data": {
      "text/plain": [
       "<Figure size 1000x600 with 0 Axes>"
      ]
     },
     "metadata": {},
     "output_type": "display_data"
    },
    {
     "data": {
      "text/plain": [
       "<Figure size 7576.74x7500 with 0 Axes>"
      ]
     },
     "metadata": {},
     "output_type": "display_data"
    },
    {
     "data": {
      "text/plain": [
       "<Figure size 1200x600 with 0 Axes>"
      ]
     },
     "metadata": {},
     "output_type": "display_data"
    }
   ],
   "source": [
    "from breast_cancer.components.data_ingestion import DataIngestion\n",
    "from breast_cancer.components.pre_processing import DataPreProcess\n",
    "\n",
    "\n",
    "\n",
    "try :\n",
    "    #ingestion\n",
    "    config = ConfigurationManager()\n",
    "    data_ingestion_config = config.get_data_ingestion_config()\n",
    "    data_ingestion = DataIngestion(config= data_ingestion_config)\n",
    "    csv_path =  Path(data_ingestion.download_file())\n",
    "    df_initial = pd.read_csv(csv_path)\n",
    "\n",
    "    # preprocess\n",
    "    pre_processing_config = config.preprocessing()\n",
    "    data_preprocess = DataPreProcess(config= pre_processing_config)\n",
    "    df_cleaned = data_preprocess.get_preprocess_data(df = df_initial)\n",
    "    \n",
    "\n",
    "    #\n",
    "    eda_config = config.EDA_configuration()\n",
    "    eda = EDA(config=eda_config)\n",
    "    eda.perform_eda()\n",
    "\n",
    "\n",
    "\n",
    "except Exception as e :\n",
    "    raise e "
   ]
  },
  {
   "cell_type": "code",
   "execution_count": null,
   "id": "41fce6d9",
   "metadata": {},
   "outputs": [],
   "source": []
  }
 ],
 "metadata": {
  "kernelspec": {
   "display_name": "venv",
   "language": "python",
   "name": "python3"
  },
  "language_info": {
   "codemirror_mode": {
    "name": "ipython",
    "version": 3
   },
   "file_extension": ".py",
   "mimetype": "text/x-python",
   "name": "python",
   "nbconvert_exporter": "python",
   "pygments_lexer": "ipython3",
   "version": "3.10.10"
  }
 },
 "nbformat": 4,
 "nbformat_minor": 5
}
