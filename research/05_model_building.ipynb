{
 "cells": [
  {
   "cell_type": "code",
   "execution_count": 1,
   "id": "62df3d5c",
   "metadata": {},
   "outputs": [],
   "source": [
    "import os "
   ]
  },
  {
   "cell_type": "code",
   "execution_count": 2,
   "id": "2cc05e3b",
   "metadata": {},
   "outputs": [
    {
     "data": {
      "text/plain": [
       "'c:\\\\code\\\\ML\\\\breast_cancer\\\\research'"
      ]
     },
     "execution_count": 2,
     "metadata": {},
     "output_type": "execute_result"
    }
   ],
   "source": [
    "%pwd"
   ]
  },
  {
   "cell_type": "code",
   "execution_count": 3,
   "id": "c028b898",
   "metadata": {},
   "outputs": [],
   "source": [
    "os.chdir(\"../\")"
   ]
  },
  {
   "cell_type": "code",
   "execution_count": 4,
   "id": "9bf7d076",
   "metadata": {},
   "outputs": [
    {
     "data": {
      "text/plain": [
       "'c:\\\\code\\\\ML\\\\breast_cancer'"
      ]
     },
     "execution_count": 4,
     "metadata": {},
     "output_type": "execute_result"
    }
   ],
   "source": [
    "%pwd"
   ]
  },
  {
   "cell_type": "code",
   "execution_count": 5,
   "id": "02083b71",
   "metadata": {},
   "outputs": [],
   "source": [
    "from xgboost import XGBClassifier"
   ]
  },
  {
   "cell_type": "code",
   "execution_count": 6,
   "id": "304b7a97",
   "metadata": {},
   "outputs": [],
   "source": [
    "from sklearn.linear_model import LogisticRegression\n",
    "from sklearn.svm import SVC\n",
    "from sklearn.ensemble import VotingClassifier , RandomForestClassifier\n",
    "from xgboost import XGBClassifier"
   ]
  },
  {
   "cell_type": "code",
   "execution_count": 26,
   "id": "a7c96d6a",
   "metadata": {},
   "outputs": [],
   "source": [
    "from dataclasses import dataclass , field\n",
    "import numpy as np\n",
    "from typing import Dict , List , Any\n",
    "\n",
    "#entity\n",
    "\n",
    "@dataclass \n",
    "class ModelBuilding:\n",
    "    cv : int\n",
    "    random_state : int\n",
    "    n_iter : int\n",
    "    n_jobs : int\n",
    "    model_save_path : str\n",
    "    \n",
    "\n"
   ]
  },
  {
   "cell_type": "code",
   "execution_count": 9,
   "id": "69a02c90",
   "metadata": {},
   "outputs": [],
   "source": [
    "#config"
   ]
  },
  {
   "cell_type": "code",
   "execution_count": null,
   "id": "306f5c99",
   "metadata": {},
   "outputs": [],
   "source": [
    "from breast_cancer.utils.common import read_yaml , create_directories\n",
    "from breast_cancer.constants import *\n",
    "class ConfigurationManager:\n",
    "    def __init__(self,\n",
    "                 config_filepath = CONFIG_FILE_PATH, \n",
    "                 params_filepath = PARAMS_FILE_PATH):\n",
    "        self.config = read_yaml(config_filepath)\n",
    "        self.params = read_yaml(params_filepath)\n",
    "        \n",
    "        create_directories([self.config.artifacts_root])\n",
    "\n",
    "    def model_building_config(self):\n",
    "        config = self.config.model_building\n",
    "        param = self.params.model_building\n",
    "        \n",
    "        model_building_configuration = ModelBuilding(cv = param.cv , random_state= param.random_state,n_iter= param.n_iter , n_jobs = param.n_jobs,\n",
    "                                                     model_save_path= config.model_save_path)\n",
    "        # create_directories([config.model_save_path])\n",
    "        return model_building_configuration"
   ]
  },
  {
   "cell_type": "code",
   "execution_count": 28,
   "id": "f639b2b0",
   "metadata": {},
   "outputs": [],
   "source": [
    "#components"
   ]
  },
  {
   "cell_type": "code",
   "execution_count": 29,
   "id": "94c88c8b",
   "metadata": {},
   "outputs": [],
   "source": [
    "from breast_cancer import logger\n",
    "from breast_cancer.pipeline.stage04_data_transformation import data_transformation_pipeline\n",
    "from sklearn.ensemble import RandomForestClassifier, GradientBoostingClassifier, VotingClassifier\n",
    "from sklearn.model_selection import RandomizedSearchCV\n",
    "from sklearn.metrics import accuracy_score\n",
    "import joblib\n",
    "\n",
    "class ModelBuildingComponent :\n",
    "    def __init__(self,config:ModelBuilding):\n",
    "        self.config = config\n",
    "\n",
    "    def load_data(self):\n",
    "        data = data_transformation_pipeline()\n",
    "        return data.main()\n",
    "    def model(self):\n",
    "        x_train, x_test, y_train, y_test = self.load_data()\n",
    "\n",
    "        rf = RandomForestClassifier(random_state=self.config.random_state)\n",
    "        gb = GradientBoostingClassifier(random_state=self.config.random_state)\n",
    "\n",
    "        rf_params = {\n",
    "            'n_estimators': [50, 100, 150],\n",
    "            'max_depth': [3, 5, 10, None]\n",
    "        }\n",
    "\n",
    "        gb_params = {\n",
    "            'n_estimators': [50, 100, 150],\n",
    "            'learning_rate': [0.01, 0.1, 0.2],\n",
    "            'max_depth': [3, 5, 7]\n",
    "        }\n",
    "\n",
    "        #random search for rf\n",
    "        rf_search = RandomizedSearchCV(rf,rf_params,n_iter=self.config.n_iter, cv= self.config.cv, n_jobs= self.config.n_jobs)\n",
    "        rf_search.fit(x_train,y_train)\n",
    "        rf_best = rf_search.best_estimator_\n",
    "\n",
    "        #random search for gradien boost\n",
    "        gb_search = RandomizedSearchCV(gb,gb_params,n_iter=self.config.n_iter, cv= self.config.cv, n_jobs= self.config.n_jobs)\n",
    "        gb_search.fit(x_train,y_train)\n",
    "        gb_best = gb_search.best_estimator_\n",
    "\n",
    "\n",
    "        #ensemble\n",
    "\n",
    "        ensemble = VotingClassifier(estimators=[\n",
    "            (\"rf\",rf_best),\n",
    "            (\"gb\",gb_best)\n",
    "        ],voting=\"soft\")\n",
    "\n",
    "        ensemble.fit(x_train,y_train)\n",
    "\n",
    "        #eval\n",
    "\n",
    "        y_pred = ensemble.predict(x_test)\n",
    "\n",
    "        acc = accuracy_score(y_true = y_test , y_pred=y_pred)\n",
    "\n",
    "        print(f\"Ensemble Test Accuracy: {acc:.4f}\")\n",
    "\n",
    "        joblib.dump(ensemble, self.config.model_save_path + \".pkl\")\n",
    "\n",
    "        return ensemble\n",
    "    \n"
   ]
  },
  {
   "cell_type": "code",
   "execution_count": 30,
   "id": "b636e9d2",
   "metadata": {},
   "outputs": [],
   "source": [
    "#pipeline"
   ]
  },
  {
   "cell_type": "code",
   "execution_count": 32,
   "id": "1d5a0658",
   "metadata": {},
   "outputs": [
    {
     "name": "stdout",
     "output_type": "stream",
     "text": [
      "[2025-05-14 21:30:04,523: INFO: common: yaml file: config\\config.yaml loaded successfully]\n",
      "[2025-05-14 21:30:04,532: INFO: common: yaml file: params.yaml loaded successfully]\n",
      "[2025-05-14 21:30:04,538: INFO: common: created directory at: artifacts]\n",
      "[2025-05-14 21:30:04,543: INFO: common: created directory at: artifacts/models/ensemble]\n",
      "[2025-05-14 21:30:04,553: INFO: common: yaml file: config\\config.yaml loaded successfully]\n",
      "[2025-05-14 21:30:04,569: INFO: common: yaml file: params.yaml loaded successfully]\n",
      "[2025-05-14 21:30:04,575: INFO: common: created directory at: artifacts]\n",
      "[2025-05-14 21:30:04,577: INFO: common: created directory at: artifacts/models/scaler]\n",
      "[2025-05-14 21:30:04,605: INFO: data_transformation: train test split]\n",
      "[2025-05-14 21:30:04,616: INFO: data_transformation: Standard Scaling]\n",
      "[2025-05-14 21:30:04,643: INFO: data_transformation: synthetic minority over sampling technique]\n"
     ]
    },
    {
     "name": "stderr",
     "output_type": "stream",
     "text": [
      "C:\\code\\ML\\breast_cancer\\src\\breast_cancer\\components\\data_transformation.py:22: FutureWarning: Downcasting behavior in `replace` is deprecated and will be removed in a future version. To retain the old behavior, explicitly call `result.infer_objects(copy=False)`. To opt-in to the future behavior, set `pd.set_option('future.no_silent_downcasting', True)`\n",
      "  y = df['diagnosis'].replace({'M':1,'B':0})\n"
     ]
    },
    {
     "name": "stdout",
     "output_type": "stream",
     "text": [
      "Ensemble Test Accuracy: 0.9649\n"
     ]
    }
   ],
   "source": [
    "try:\n",
    "    config = ConfigurationManager()\n",
    "    model_building = config.model_building_config()\n",
    "    model_building_comp = ModelBuildingComponent(config=model_building)\n",
    "    model_building_comp.model()\n",
    "\n",
    "except Exception as e:\n",
    "    raise e"
   ]
  },
  {
   "cell_type": "code",
   "execution_count": null,
   "id": "6c65f715",
   "metadata": {},
   "outputs": [],
   "source": []
  }
 ],
 "metadata": {
  "kernelspec": {
   "display_name": "venv",
   "language": "python",
   "name": "python3"
  },
  "language_info": {
   "codemirror_mode": {
    "name": "ipython",
    "version": 3
   },
   "file_extension": ".py",
   "mimetype": "text/x-python",
   "name": "python",
   "nbconvert_exporter": "python",
   "pygments_lexer": "ipython3",
   "version": "3.10.10"
  }
 },
 "nbformat": 4,
 "nbformat_minor": 5
}
