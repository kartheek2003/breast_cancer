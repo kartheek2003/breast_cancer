{
 "cells": [
  {
   "cell_type": "code",
   "execution_count": 1,
   "id": "9aa9be08",
   "metadata": {},
   "outputs": [],
   "source": [
    "import os"
   ]
  },
  {
   "cell_type": "code",
   "execution_count": 2,
   "id": "7da51bf9",
   "metadata": {},
   "outputs": [
    {
     "data": {
      "text/plain": [
       "'c:\\\\code\\\\ML\\\\breast_cancer\\\\research'"
      ]
     },
     "execution_count": 2,
     "metadata": {},
     "output_type": "execute_result"
    }
   ],
   "source": [
    "%pwd"
   ]
  },
  {
   "cell_type": "code",
   "execution_count": 3,
   "id": "5f6ede45",
   "metadata": {},
   "outputs": [],
   "source": [
    "os.chdir(\"../\")"
   ]
  },
  {
   "cell_type": "code",
   "execution_count": 4,
   "id": "61a9aef5",
   "metadata": {},
   "outputs": [
    {
     "data": {
      "text/plain": [
       "'c:\\\\code\\\\ML\\\\breast_cancer'"
      ]
     },
     "execution_count": 4,
     "metadata": {},
     "output_type": "execute_result"
    }
   ],
   "source": [
    "%pwd"
   ]
  },
  {
   "cell_type": "code",
   "execution_count": 5,
   "id": "bc61db6d",
   "metadata": {},
   "outputs": [],
   "source": [
    "#config.yaml"
   ]
  },
  {
   "cell_type": "code",
   "execution_count": 6,
   "id": "4d78f1d1",
   "metadata": {},
   "outputs": [],
   "source": [
    "#entity"
   ]
  },
  {
   "cell_type": "code",
   "execution_count": 7,
   "id": "87a6fb94",
   "metadata": {},
   "outputs": [],
   "source": [
    "from dataclasses import dataclass\n",
    "from pathlib import Path"
   ]
  },
  {
   "cell_type": "code",
   "execution_count": 8,
   "id": "7ea722cf",
   "metadata": {},
   "outputs": [],
   "source": [
    "@dataclass(frozen= True)\n",
    "class DataIngestionConfig:\n",
    "    root_dir : Path\n",
    "    source_url : str\n",
    "    local_data_file : Path\n",
    "    "
   ]
  },
  {
   "cell_type": "code",
   "execution_count": 9,
   "id": "9389d5ff",
   "metadata": {},
   "outputs": [],
   "source": [
    "# src/config/configuration"
   ]
  },
  {
   "cell_type": "code",
   "execution_count": 10,
   "id": "49e73c06",
   "metadata": {},
   "outputs": [],
   "source": [
    "import sys\n",
    "import os\n",
    "\n",
    "sys.path.append(os.path.join(os.getcwd(), \"src\"))\n"
   ]
  },
  {
   "cell_type": "code",
   "execution_count": 11,
   "id": "082b86e1",
   "metadata": {},
   "outputs": [
    {
     "name": "stdout",
     "output_type": "stream",
     "text": [
      "Requirement already satisfied: python-box in c:\\users\\kk687\\anaconda3\\envs\\myenv\\lib\\site-packages (7.2.0)\n"
     ]
    }
   ],
   "source": [
    "!pip install python-box"
   ]
  },
  {
   "cell_type": "code",
   "execution_count": 12,
   "id": "a6d29082",
   "metadata": {},
   "outputs": [],
   "source": [
    "from breast_cancer.constants import  *\n",
    "\n",
    "from breast_cancer.utils.common import read_yaml , create_directories"
   ]
  },
  {
   "cell_type": "code",
   "execution_count": 13,
   "id": "b6ef863f",
   "metadata": {},
   "outputs": [],
   "source": [
    "class ConfigurationManager:\n",
    "    def __init__(self,\n",
    "                 config_filepath = CONFIG_FILE_PATH, \n",
    "                 params_filepath = PARAMS_FILE_PATH):\n",
    "        self.config = read_yaml(config_filepath)\n",
    "        self.params = read_yaml(params_filepath)\n",
    "\n",
    "        create_directories([self.config.artifacts_root])\n",
    "\n",
    "    def get_data_ingestion_config(self) -> DataIngestionConfig:\n",
    "        config = self.config.data_ingestion\n",
    "        create_directories([config.root_dir])\n",
    "\n",
    "        data_ingestion_config = DataIngestionConfig(\n",
    "            root_dir= config.root_dir,\n",
    "            source_url= config.source_url,\n",
    "            local_data_file= config.local_data_file,\n",
    "            \n",
    "        )\n",
    "\n",
    "        return data_ingestion_config"
   ]
  },
  {
   "cell_type": "code",
   "execution_count": 14,
   "id": "988ec092",
   "metadata": {},
   "outputs": [],
   "source": [
    "#components"
   ]
  },
  {
   "cell_type": "code",
   "execution_count": 15,
   "id": "411677c6",
   "metadata": {},
   "outputs": [],
   "source": [
    "import os\n",
    "import urllib.request \n",
    "import zipfile\n",
    "from breast_cancer import logger\n",
    "from breast_cancer.utils.common import get_size"
   ]
  },
  {
   "cell_type": "code",
   "execution_count": 16,
   "id": "db1cba5d",
   "metadata": {},
   "outputs": [],
   "source": [
    "class DataIngestion:\n",
    "    def __init__(self,config : DataIngestionConfig ):\n",
    "        self.config = config\n",
    "\n",
    "    def download_file (self):\n",
    "        logger.info(f\"Starting download from {self.config.source_url}...\")\n",
    "        try:\n",
    "            # Create the directory if it doesn't exist\n",
    "            os.makedirs(os.path.dirname(self.config.local_data_file), exist_ok=True)\n",
    "\n",
    "            # Download the file\n",
    "            urllib.request.urlretrieve(\n",
    "                self.config.source_url,\n",
    "                self.config.local_data_file\n",
    "            )\n",
    "            logger.info(f\"Downloaded file to: {self.config.local_data_file}\")\n",
    "        except Exception as e:\n",
    "            logger.error(f\"Error during download: {e}\")\n",
    "            raise e\n",
    "\n",
    "    \n",
    "    "
   ]
  },
  {
   "cell_type": "code",
   "execution_count": 17,
   "id": "239e0af3",
   "metadata": {},
   "outputs": [],
   "source": [
    "#pipeline\n",
    "\n"
   ]
  },
  {
   "cell_type": "code",
   "execution_count": 18,
   "id": "10ec0fd2",
   "metadata": {},
   "outputs": [
    {
     "name": "stdout",
     "output_type": "stream",
     "text": [
      "[2025-04-18 22:12:03,943: INFO: common: yaml file: config\\config.yaml loaded successfully]\n",
      "[2025-04-18 22:12:03,952: INFO: common: yaml file: params.yaml loaded successfully]\n",
      "[2025-04-18 22:12:03,953: INFO: common: created directory at: artifacts]\n",
      "[2025-04-18 22:12:03,959: INFO: common: created directory at: artifacts/data_ingestion]\n",
      "[2025-04-18 22:12:03,961: INFO: 2879633577: Starting download from https://github.com/kartheek2003/data_zip_repo/blob/main/data.csv...]\n",
      "[2025-04-18 22:12:07,224: INFO: 2879633577: Downloaded file to: artifacts/data_ingestion/data.csv]\n"
     ]
    }
   ],
   "source": [
    "try :\n",
    "    config = ConfigurationManager()\n",
    "    data_ingestion_config = config.get_data_ingestion_config()\n",
    "    data_ingestion = DataIngestion(config= data_ingestion_config)\n",
    "    data_ingestion.download_file()\n",
    "    \n",
    "except Exception as e :\n",
    "    raise e "
   ]
  },
  {
   "cell_type": "code",
   "execution_count": null,
   "id": "0ca06343",
   "metadata": {},
   "outputs": [],
   "source": []
  }
 ],
 "metadata": {
  "kernelspec": {
   "display_name": "myenv",
   "language": "python",
   "name": "python3"
  },
  "language_info": {
   "codemirror_mode": {
    "name": "ipython",
    "version": 3
   },
   "file_extension": ".py",
   "mimetype": "text/x-python",
   "name": "python",
   "nbconvert_exporter": "python",
   "pygments_lexer": "ipython3",
   "version": "3.8.19"
  }
 },
 "nbformat": 4,
 "nbformat_minor": 5
}
