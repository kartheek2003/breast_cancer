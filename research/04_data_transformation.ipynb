{
 "cells": [
  {
   "cell_type": "code",
   "execution_count": 1,
   "id": "796f1bda",
   "metadata": {},
   "outputs": [],
   "source": [
    "import os"
   ]
  },
  {
   "cell_type": "code",
   "execution_count": 3,
   "id": "698dd523",
   "metadata": {},
   "outputs": [
    {
     "data": {
      "text/plain": [
       "'c:\\\\code\\\\ML\\\\breast_cancer\\\\research'"
      ]
     },
     "execution_count": 3,
     "metadata": {},
     "output_type": "execute_result"
    }
   ],
   "source": [
    "%pwd"
   ]
  },
  {
   "cell_type": "code",
   "execution_count": 4,
   "id": "48be20f9",
   "metadata": {},
   "outputs": [],
   "source": [
    "os.chdir(\"../\")"
   ]
  },
  {
   "cell_type": "code",
   "execution_count": null,
   "id": "635c205c",
   "metadata": {},
   "outputs": [
    {
     "data": {
      "text/plain": [
       "'c:\\\\code\\\\ML\\\\breast_cancer'"
      ]
     },
     "execution_count": 5,
     "metadata": {},
     "output_type": "execute_result"
    }
   ],
   "source": [
    "%pwd"
   ]
  },
  {
   "cell_type": "code",
   "execution_count": 7,
   "id": "7093826f",
   "metadata": {},
   "outputs": [
    {
     "name": "stdout",
     "output_type": "stream",
     "text": [
      "Requirement already satisfied: scikit-learn in c:\\code\\ml\\breast_cancer\\venv\\lib\\site-packages (1.6.1)\n",
      "Requirement already satisfied: threadpoolctl>=3.1.0 in c:\\code\\ml\\breast_cancer\\venv\\lib\\site-packages (from scikit-learn) (3.6.0)\n",
      "Requirement already satisfied: scipy>=1.6.0 in c:\\code\\ml\\breast_cancer\\venv\\lib\\site-packages (from scikit-learn) (1.15.2)\n",
      "Requirement already satisfied: numpy>=1.19.5 in c:\\code\\ml\\breast_cancer\\venv\\lib\\site-packages (from scikit-learn) (2.2.4)\n",
      "Requirement already satisfied: joblib>=1.2.0 in c:\\code\\ml\\breast_cancer\\venv\\lib\\site-packages (from scikit-learn) (1.4.2)\n"
     ]
    },
    {
     "name": "stderr",
     "output_type": "stream",
     "text": [
      "WARNING: There was an error checking the latest version of pip.\n"
     ]
    }
   ],
   "source": [
    "!pip install scikit-learn"
   ]
  },
  {
   "cell_type": "code",
   "execution_count": null,
   "id": "cef4c9de",
   "metadata": {},
   "outputs": [],
   "source": [
    "\n",
    "\n",
    "from sklearn.model_selection import train_test_split"
   ]
  },
  {
   "cell_type": "code",
   "execution_count": 9,
   "id": "c3f76424",
   "metadata": {},
   "outputs": [],
   "source": [
    "#config entity\n"
   ]
  },
  {
   "cell_type": "code",
   "execution_count": 37,
   "id": "56e3c00f",
   "metadata": {},
   "outputs": [],
   "source": [
    "from dataclasses import dataclass\n",
    "from pathlib import Path\n",
    "@dataclass\n",
    "class DataTransform:\n",
    "    df_path : Path\n",
    "    # transformed_df_path : Path\n",
    "    test_size : int\n",
    "    random_state : int\n",
    "    smote_k_neighbours :int\n",
    "    n_pca_components: int\n",
    "    scaler_path : Path\n",
    "    # pca_model_path : Path\n"
   ]
  },
  {
   "cell_type": "code",
   "execution_count": 12,
   "id": "b68b2f9c",
   "metadata": {},
   "outputs": [],
   "source": [
    "#configuration"
   ]
  },
  {
   "cell_type": "code",
   "execution_count": 31,
   "id": "c7708ada",
   "metadata": {},
   "outputs": [],
   "source": [
    "from breast_cancer.entity.config_entity import DataIngestionConfig , PreProcessing , EDAconfig , DataTransform\n",
    "from breast_cancer.utils.common import read_yaml , create_directories\n",
    "from breast_cancer.constants import *\n",
    "class ConfigurationManager:\n",
    "    def __init__(self,\n",
    "                 config_filepath = CONFIG_FILE_PATH, \n",
    "                 params_filepath = PARAMS_FILE_PATH):\n",
    "        self.config = read_yaml(config_filepath)\n",
    "        self.params = read_yaml(params_filepath)\n",
    "\n",
    "        create_directories([self.config.artifacts_root])\n",
    "\n",
    "    def get_data_ingestion_config(self) -> DataIngestionConfig:\n",
    "        config = self.config.data_ingestion\n",
    "        create_directories([config.root_dir])\n",
    "\n",
    "        data_ingestion_config = DataIngestionConfig(\n",
    "            root_dir= config.root_dir,\n",
    "            source_url= config.source_url,\n",
    "            local_data_file= config.local_data_file,\n",
    "            \n",
    "        )\n",
    "\n",
    "        return data_ingestion_config\n",
    "    \n",
    "    def preprocessing(self) -> PreProcessing:\n",
    "        params = self.params.preprocessing\n",
    "        config = self.config.preprocessing\n",
    "        \n",
    "        create_directories([config.df_pre_dir])\n",
    "        pre_processing = PreProcessing(df_pre_dir=config.df_pre_dir,drop_columns=params.drop_columns,axis = params.axis)\n",
    "        \n",
    "        return pre_processing\n",
    "\n",
    "    def EDA_configuration(self) -> EDAconfig:\n",
    "        config = self.config.EDA_config\n",
    "        create_directories([config.report_path])\n",
    "\n",
    "        eda_config = EDAconfig(report_path=config.report_path,df_clean_path= config.df_clean_path)\n",
    "\n",
    "        return eda_config\n",
    "\n",
    "    \n",
    "    def data_transformation_config(self) ->  DataTransform:\n",
    "        config  = self.config.DataTransform\n",
    "        param = self.params.DataTransform\n",
    "        # create_directories([config.transformed_df_path]) \n",
    "        create_directories([config.scaler_path])\n",
    "        # create_directories([config.pca_model_path])\n",
    "\n",
    "        data_tra_config = DataTransform(df_path = config.df_path,\n",
    "                                        test_size=param.test_size,random_state=param.random_state,smote_k_neighbours= param.smote_k_neighbours,\n",
    "                                        n_pca_components=param.n_pca_components,scaler_path= config.scaler_path,\n",
    "                                       )\n",
    "                                 \n",
    "                                        \n",
    "        return data_tra_config\n",
    "\n",
    "    "
   ]
  },
  {
   "cell_type": "code",
   "execution_count": 32,
   "id": "cdb423a2",
   "metadata": {},
   "outputs": [],
   "source": [
    "#components\n"
   ]
  },
  {
   "cell_type": "code",
   "execution_count": 33,
   "id": "4da67bde",
   "metadata": {},
   "outputs": [],
   "source": [
    "import imblearn\n"
   ]
  },
  {
   "cell_type": "code",
   "execution_count": 34,
   "id": "9f295d5e",
   "metadata": {},
   "outputs": [],
   "source": [
    "from breast_cancer import logger\n",
    "import pandas as pd\n",
    "from sklearn.model_selection import train_test_split\n",
    "from sklearn.preprocessing import StandardScaler\n",
    "from imblearn.over_sampling import SMOTE\n",
    "# from sklearn.decomposition import PCA\n",
    "import joblib\n",
    "\n",
    "\n",
    "class DataTransformation:\n",
    "    def __init__(self,config : DataTransform):\n",
    "        self.config = config\n",
    "\n",
    "    def load_data(self):\n",
    "        return pd.read_csv(self.config.df_path)\n",
    "    \n",
    "    def get_data_transformation(self):\n",
    "        try:\n",
    "            df = self.load_data()\n",
    "            x = df.drop(['diagnosis'],axis=1)\n",
    "            y = df['diagnosis'].replace({'M':1,'B':0})\n",
    "            #split\n",
    "            logger.info(\"train test split\")\n",
    "            x_train,x_test,y_train,y_test = train_test_split(x,y,test_size = self.config.test_size,random_state=self.config.random_state)\n",
    "            \n",
    "            #scaling\n",
    "\n",
    "            logger.info(\"Standard Scaling\")\n",
    "            scaler = StandardScaler()\n",
    "            x_train_scaled = scaler.fit_transform(x_train)\n",
    "            joblib.dump(scaler , os.path.join(self.config.scaler_path,\"scaler.pkl\"))\n",
    "            x_test_scaled = scaler.transform(x_test)\n",
    "\n",
    "            #SMOTE\n",
    "            logger.info(\"synthetic minority over sampling technique\")\n",
    "            smote = SMOTE(k_neighbors=self.config.smote_k_neighbours,random_state=self.config.random_state)\n",
    "            x_res , y_res = smote.fit_resample(x_train_scaled,y_train)\n",
    "\n",
    "\n",
    "            #pca \n",
    "\n",
    "            # logger.info(\"principal component analysis\")\n",
    "\n",
    "            # pca = PCA(n_components=self.config.n_pca_components,random_state=self.config.random_state)\n",
    "\n",
    "            # x_train_pca = pca.fit_transform(x_res)\n",
    "            # joblib.dump(pca,os.path.join(self.config.pca_model_path,\"pca.pkl\"))\n",
    "            # x_test_pca = pca.transform(x_test)\n",
    "\n",
    "            return x_res,x_test_scaled, y_res, y_test\n",
    "\n",
    "        except Exception as e:\n",
    "            raise e\n",
    "            \n",
    "\n",
    "        \n",
    "\n"
   ]
  },
  {
   "cell_type": "code",
   "execution_count": 35,
   "id": "7d5d9752",
   "metadata": {},
   "outputs": [],
   "source": [
    "#pipeline"
   ]
  },
  {
   "cell_type": "code",
   "execution_count": 38,
   "id": "eeca0bf3",
   "metadata": {},
   "outputs": [
    {
     "name": "stdout",
     "output_type": "stream",
     "text": [
      "[2025-05-06 17:17:02,113: INFO: common: yaml file: config\\config.yaml loaded successfully]\n",
      "[2025-05-06 17:17:02,119: INFO: common: yaml file: params.yaml loaded successfully]\n",
      "[2025-05-06 17:17:02,123: INFO: common: created directory at: artifacts]\n",
      "[2025-05-06 17:17:02,126: INFO: common: created directory at: artifacts/models/scaler]\n",
      "[2025-05-06 17:17:02,219: INFO: 1744828144: train test split]\n",
      "[2025-05-06 17:17:02,225: INFO: 1744828144: Standard Scaling]\n",
      "[2025-05-06 17:17:02,240: INFO: 1744828144: synthetic minority over sampling technique]\n"
     ]
    },
    {
     "name": "stderr",
     "output_type": "stream",
     "text": [
      "C:\\Users\\kk687\\AppData\\Local\\Temp\\ipykernel_25332\\1744828144.py:21: FutureWarning: Downcasting behavior in `replace` is deprecated and will be removed in a future version. To retain the old behavior, explicitly call `result.infer_objects(copy=False)`. To opt-in to the future behavior, set `pd.set_option('future.no_silent_downcasting', True)`\n",
      "  y = df['diagnosis'].replace({'M':1,'B':0})\n"
     ]
    }
   ],
   "source": [
    "try :\n",
    "    config = ConfigurationManager()\n",
    "    data_tra_config = config.data_transformation_config()\n",
    "    data_transformation = DataTransformation(config=data_tra_config)\n",
    "    x_train, x_test, y_train, y_test = data_transformation.get_data_transformation()\n",
    "\n",
    "except Exception as e:\n",
    "    raise e"
   ]
  },
  {
   "cell_type": "code",
   "execution_count": 22,
   "id": "6c60f3d0",
   "metadata": {},
   "outputs": [
    {
     "data": {
      "text/plain": [
       "array([[ 3.09599095,  9.01906107,  2.71430853, -0.51922381,  4.30995322],\n",
       "       [ 8.33012077,  1.3381213 , -2.96536296,  0.68349725,  0.38951814],\n",
       "       [-3.09864942,  3.03124793,  3.32676384, -0.13206642, -0.99722258],\n",
       "       ...,\n",
       "       [ 2.71585201, -1.4088932 , -2.00219031,  1.91227763,  0.85945067],\n",
       "       [ 3.42666745, -0.96322651,  1.12084589,  0.2843452 , -0.53900591],\n",
       "       [ 3.51057782, -2.62022778,  1.33126719,  0.43539446, -0.69789864]],\n",
       "      shape=(572, 5))"
      ]
     },
     "execution_count": 22,
     "metadata": {},
     "output_type": "execute_result"
    }
   ],
   "source": [
    "x_train"
   ]
  },
  {
   "cell_type": "code",
   "execution_count": 25,
   "id": "ac143ae2",
   "metadata": {},
   "outputs": [
    {
     "data": {
      "text/plain": [
       "114"
      ]
     },
     "execution_count": 25,
     "metadata": {},
     "output_type": "execute_result"
    }
   ],
   "source": [
    "len(x_test)"
   ]
  },
  {
   "cell_type": "code",
   "execution_count": null,
   "id": "e7f37c1d",
   "metadata": {},
   "outputs": [],
   "source": []
  }
 ],
 "metadata": {
  "kernelspec": {
   "display_name": "venv",
   "language": "python",
   "name": "python3"
  },
  "language_info": {
   "codemirror_mode": {
    "name": "ipython",
    "version": 3
   },
   "file_extension": ".py",
   "mimetype": "text/x-python",
   "name": "python",
   "nbconvert_exporter": "python",
   "pygments_lexer": "ipython3",
   "version": "3.10.10"
  }
 },
 "nbformat": 4,
 "nbformat_minor": 5
}
